{
 "cells": [
  {
   "cell_type": "code",
   "execution_count": 1,
   "id": "subsequent-indie",
   "metadata": {},
   "outputs": [],
   "source": [
    "import os\n",
    "import re\n",
    "import shutil\n",
    "import sys\n",
    "from datetime import date\n",
    "\n",
    "import numpy as np\n",
    "import array\n",
    "import matplotlib.pyplot as plt\n",
    "\n",
    "import matlab\n",
    "import matlab.engine as engine"
   ]
  },
  {
   "cell_type": "code",
   "execution_count": 8,
   "id": "peripheral-mustang",
   "metadata": {},
   "outputs": [
    {
     "name": "stdout",
     "output_type": "stream",
     "text": [
      "fade (matlab) scripts:\n",
      "* mul2.m\n",
      "* gaussianDetrend.m\n",
      "* FADE.m\n",
      "* demo_Walkthrough.m\n",
      "* sumSAmplitudes.m\n",
      "* approximateInversion.m\n",
      "* MEMDeconvolution.m\n",
      "* test1D.m\n",
      "* findIslands.m\n",
      "* gaussianBlur.m\n",
      "* peakSAmplitudes.m\n"
     ]
    }
   ],
   "source": [
    "fade_path = \"../fade/src/matlab\"\n",
    "eng = engine.start_matlab()\n",
    "eng.addpath(eng.genpath(fade_path), nargout=0)\n",
    "print(\"fade (matlab) scripts:\")\n",
    "for f in os.listdir(fade_path):\n",
    "    print(\"* %s\" % f)"
   ]
  },
  {
   "cell_type": "code",
   "execution_count": 3,
   "id": "manual-relationship",
   "metadata": {},
   "outputs": [],
   "source": [
    "# eng.demo_Walkthrough()"
   ]
  },
  {
   "cell_type": "code",
   "execution_count": 4,
   "id": "motivated-filing",
   "metadata": {},
   "outputs": [],
   "source": [
    "def np_to_mat(x):\n",
    "    return matlab.double(x.tolist())\n",
    "\n",
    "def mat_to_np(x):\n",
    "    return np.array(x)"
   ]
  },
  {
   "cell_type": "code",
   "execution_count": 5,
   "id": "neural-italic",
   "metadata": {},
   "outputs": [
    {
     "data": {
      "text/plain": [
       "matlab.double([[0.0,2.0,4.0,6.0,8.0,10.0,12.0,14.0,16.0,18.0]])"
      ]
     },
     "execution_count": 5,
     "metadata": {},
     "output_type": "execute_result"
    }
   ],
   "source": [
    "# a = np.ones((3, 3))\n",
    "a = np.arange(10)\n",
    "eng.mul2(np_to_mat(a))"
   ]
  },
  {
   "cell_type": "code",
   "execution_count": 7,
   "id": "southern-northwest",
   "metadata": {},
   "outputs": [
    {
     "data": {
      "text/plain": [
       "array([[ 0.,  2.,  4.,  6.,  8., 10., 12., 14., 16., 18.]])"
      ]
     },
     "execution_count": 7,
     "metadata": {},
     "output_type": "execute_result"
    }
   ],
   "source": [
    "np.array(eng.mul2(np_to_mat(a)))"
   ]
  },
  {
   "cell_type": "code",
   "execution_count": null,
   "id": "divine-connecticut",
   "metadata": {},
   "outputs": [],
   "source": []
  }
 ],
 "metadata": {
  "kernelspec": {
   "display_name": "Python 3",
   "language": "python",
   "name": "python3"
  },
  "language_info": {
   "codemirror_mode": {
    "name": "ipython",
    "version": 3
   },
   "file_extension": ".py",
   "mimetype": "text/x-python",
   "name": "python",
   "nbconvert_exporter": "python",
   "pygments_lexer": "ipython3",
   "version": "3.8.8"
  }
 },
 "nbformat": 4,
 "nbformat_minor": 5
}
