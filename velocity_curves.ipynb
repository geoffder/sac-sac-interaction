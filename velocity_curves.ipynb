{
 "cells": [
  {
   "cell_type": "code",
   "execution_count": null,
   "id": "dramatic-tunisia",
   "metadata": {},
   "outputs": [],
   "source": [
    "import os\n",
    "import shutil\n",
    "import sys\n",
    "\n",
    "import numpy as np\n",
    "import matplotlib.pyplot as plt\n",
    "from skimage import io"
   ]
  },
  {
   "cell_type": "markdown",
   "id": "biblical-migration",
   "metadata": {},
   "source": [
    "### Activate interactive plotting\n",
    "By default, inline plots are static. Here we specify one of two options (comment out the undesired command) that will open plots with GUI controls for us.\n",
    "- **qt ->** figures opened in windows outside the notebook\n",
    "- **notebook ->** figures within notebook underneath generating cell."
   ]
  },
  {
   "cell_type": "code",
   "execution_count": null,
   "id": "color-education",
   "metadata": {},
   "outputs": [],
   "source": [
    "# %matplotlib qt \n",
    "%matplotlib notebook"
   ]
  },
  {
   "cell_type": "code",
   "execution_count": null,
   "id": "qualified-scheduling",
   "metadata": {},
   "outputs": [],
   "source": [
    "base_path = \"/mnt/Data/prerna_velocity/\"\n",
    "data_path = os.path.join(base_path, \"2021_05_11\")"
   ]
  },
  {
   "cell_type": "code",
   "execution_count": null,
   "id": "whole-explosion",
   "metadata": {},
   "outputs": [],
   "source": [
    "vel_data = {\n",
    "    int(d): np.stack(\n",
    "        [\n",
    "            io.imread(os.path.join(data_path, d, f))\n",
    "            for f in os.path.join(data_path, d) \n",
    "            if (f.endswith(\".tiff\") or f.endswith(\".tif\"))\n",
    "        ],\n",
    "        axis=0\n",
    "    )\n",
    "    for d in os.path.listdir(data_path)\n",
    "    if (os.path.isdir(os.path.join(data_path, d)) and d.isnumeric())\n",
    "}"
   ]
  }
 ],
 "metadata": {
  "kernelspec": {
   "display_name": "Python 3",
   "language": "python",
   "name": "python3"
  },
  "language_info": {
   "codemirror_mode": {
    "name": "ipython",
    "version": 3
   },
   "file_extension": ".py",
   "mimetype": "text/x-python",
   "name": "python",
   "nbconvert_exporter": "python",
   "pygments_lexer": "ipython3",
   "version": "3.8.8"
  }
 },
 "nbformat": 4,
 "nbformat_minor": 5
}
